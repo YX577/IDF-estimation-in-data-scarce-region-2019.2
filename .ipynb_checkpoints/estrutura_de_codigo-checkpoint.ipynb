{
 "cells": [
  {
   "cell_type": "markdown",
   "metadata": {},
   "source": [
    "```python\n",
    "def descompactar(diretorio):\n",
    "    \"\"\"\n",
    "    Função para descompactar arquivos zipados e ler planilhas excel com dados\n",
    "    Desenvolvedor da função: Clebson\n",
    "    \n",
    "    params:\n",
    "        diretorio: String com o diretorio do arquivo\n",
    "    return:\n",
    "        pd.DataFrame: index:Date; columns:['precipitacao']\n",
    "    \"\"\"\n",
    "    return dados\n",
    "\n",
    "def calcula_intensidade(dados, duracao):\n",
    "    \"\"\"\n",
    "    Função para calcular a intensidade para as respectivas durações\n",
    "    Desenvolvedor da função: Clebson\n",
    "    \n",
    "    params:\n",
    "        dados: index:Date; columns:['precipitacao']\n",
    "        duracao: lista com durações\n",
    "    return:\n",
    "        intensidades: index:Date; columns:['intensidade', 'duracao']\n",
    "    \"\"\"\n",
    "    return intensidades\n",
    "\n",
    "def calcula_maximas(intensidades):\n",
    "    \"\"\"\n",
    "    Para cada duração calcula a intensidade máxima para um dado período estipulado (ex: anual)\n",
    "    Desenvolvedor da função: Clebson\n",
    "    \n",
    "    params:\n",
    "        intensidades: index:Date; columns:['intensidade', 'duracao']\n",
    "    return:\n",
    "        pd.DataFrame: index:autoincrement; columns:['intensidade', 'duracao']\n",
    "    \"\"\"\n",
    "    return series_maximas\n",
    "    \n",
    "def calcula_posteriori(series_maximas):\n",
    "    \"\"\"\n",
    "    Calcula a distribuição a posteriori usando MCMC\n",
    "    Desenvolvedor da função: Yan\n",
    "    \n",
    "    params:\n",
    "        series_maximas: index:autoincrement; columns:['intensidade', 'duracao']\n",
    "    return:\n",
    "        trace: index:autoincrement; columns:['loc', 'scale', 'kappa', 'eta', 'theta']\n",
    "        resumo_trace: index:['loc', 'scale', 'kappa', 'eta', 'theta']; columns:['Mean', 'SD', 'ESS_mean', 'ESS_sd' 'HPD2.5', 'HPD97.5']\n",
    "    \"\"\"\n",
    "    return trace, resumo_trace\n",
    "```\n",
    "\n"
   ]
  }
 ],
 "metadata": {
  "kernelspec": {
   "display_name": "Python 3",
   "language": "python",
   "name": "python3"
  },
  "language_info": {
   "codemirror_mode": {
    "name": "ipython",
    "version": 3
   },
   "file_extension": ".py",
   "mimetype": "text/x-python",
   "name": "python",
   "nbconvert_exporter": "python",
   "pygments_lexer": "ipython3",
   "version": "3.7.4"
  }
 },
 "nbformat": 4,
 "nbformat_minor": 2
}
