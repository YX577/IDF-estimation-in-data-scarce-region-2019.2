{
 "cells": [
  {
   "cell_type": "markdown",
   "metadata": {},
   "source": [
    "# Estimation of intensity–duration–frequency model for extreme precipitation using a Bayesian approach\n",
    "\n",
    "\n",
    "## Introduction\n",
    "\n",
    "1. Use intensity-duration-frequency (IDF) for structures design\n",
    "2. Last update in IDF curves for Alagoas?\n",
    "3. Problem in point estimates and importance of uncertainty communications lead to Bayesian estimation (talk about advantages and drawbacks of some methods) - IDF curves are most commonly calculated using short data sets\n",
    "4. Bayes can assess uncertainty and incorporate other sources of information\n",
    "5. Estimate IDF curves for Alagoas and assess uncertainties\n",
    "\n",
    "\n",
    "## Methods\n",
    "\n",
    "![](Artigo_Bayes_IDF-method.png)\n",
    "\n",
    "1. Study Area and Data Set: INMET station  code  A303 located in Maceió\n",
    "2. Bayesian inference:\n",
    "    2.1. Bayesian Rule\n",
    "    2.2. Likelihood\n",
    "        * Generalized Extreme Value Distribution\n",
    "    2.3. Priors:\n",
    "        * mu ~ Normal(0,10^4)\n",
    "        * alpha ~ Halfnormal(10^4)\n",
    "        * kappa ~ Beta(6,9), [-0.5, 0.5]\n",
    "        * etta ~ Uniform(0,1)\n",
    "        * tetha ~ Halfnormal(10^2)\n",
    "    2.4. MCMC:\n",
    "        * Non-U Turn Sampler (NUTS)\n",
    "    2.5. Convergence diagnostic:\n",
    "        * Geweke"
   ]
  }
 ],
 "metadata": {
  "kernelspec": {
   "display_name": "Python 3",
   "language": "python",
   "name": "python3"
  },
  "language_info": {
   "codemirror_mode": {
    "name": "ipython",
    "version": 3
   },
   "file_extension": ".py",
   "mimetype": "text/x-python",
   "name": "python",
   "nbconvert_exporter": "python",
   "pygments_lexer": "ipython3",
   "version": "3.7.4"
  }
 },
 "nbformat": 4,
 "nbformat_minor": 2
}
