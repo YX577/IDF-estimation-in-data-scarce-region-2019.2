{
 "cells": [
  {
   "cell_type": "markdown",
   "metadata": {},
   "source": [
    "# Estimation of intensity–duration–frequency model for extreme precipitation using a Bayesian approach\n",
    "\n",
    "\n",
    "## Introduction\n",
    "\n",
    "1. Use intensity-duration-frequency (IDF) for structures design\n",
    "2. Last update in IDF curves for Alagoas?\n",
    "3. Problem in point estimates and importance of uncertainty communications lead to Bayesian estimation (talk about advantages and drawbacks of some methods) - IDF curves are most commonly calculated using short data sets\n",
    "4. Bayes can assess uncertainty and incorporate other sources of information\n",
    "5. Estimate IDF curves for Alagoas and compare the results with traditional techniques\n",
    "\n",
    "\n",
    "## Methods\n",
    "\n",
    "1. Study Area and Data Set\n",
    "2. Classical estimates (ML, PWM)\n",
    "3. Bayesian inference (Bayes' rule, MCMC, convergence)\n",
    "4. Model setup (priors, GEV)\n",
    "5. Model selection (AIC)\n",
    "\n",
    "## Results and discussion"
   ]
  }
 ],
 "metadata": {
  "kernelspec": {
   "display_name": "Python 3",
   "language": "python",
   "name": "python3"
  },
  "language_info": {
   "codemirror_mode": {
    "name": "ipython",
    "version": 3
   },
   "file_extension": ".py",
   "mimetype": "text/x-python",
   "name": "python",
   "nbconvert_exporter": "python",
   "pygments_lexer": "ipython3",
   "version": "3.7.1"
  }
 },
 "nbformat": 4,
 "nbformat_minor": 2
}
