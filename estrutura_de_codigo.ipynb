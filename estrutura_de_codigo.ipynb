{
 "cells": [
  {
   "cell_type": "markdown",
   "metadata": {},
   "source": [
    "```python\n",
    "def descompactar(caminho):\n",
    "    \"\"\"\n",
    "    params:\n",
    "        caminho: String com o caminho do arquivo\n",
    "    return:\n",
    "        pd.DataFrame: index:Date; columns:['precipitacao']\n",
    "    \"\"\"\n",
    "    return pd.DataFrame\n",
    "\n",
    "def calcula_intensidade(pd.DataFrame, duracao):\n",
    "    \"\"\"\n",
    "    params:\n",
    "        pd.DataFrame: index:Date; columns:['precipitacao']\n",
    "        duracao: list\n",
    "    return:\n",
    "        pd.Dataframe: index:Date; columns:['intensidade', 'duracao']\n",
    "    \"\"\"\n",
    "    return pd.DataFrame\n",
    "\n",
    "def calcula_maximas(pd.DataFrame):\n",
    "    \"\"\"\n",
    "    params:\n",
    "        pd.DataFrame: index:Date; columns:['intensidade', 'duracao']\n",
    "    return:\n",
    "        pd.DataFrame: index:autoincrement; columns:['intensidade', 'duracao']\n",
    "    \"\"\"\n",
    "    return pd.DataFrame\n",
    "    \n",
    "def calcula_posteriori(pd.DataFrame):\n",
    "    \"\"\"\n",
    "    params:\n",
    "        pd.DataFrame: index:autoincrement; columns:['intensidade', 'duracao']\n",
    "    return:\n",
    "        trace: index:autoincrement; columns:['loc', 'scale', 'kappa', 'eta', 'theta']\n",
    "        resumo_trace: index:['loc', 'scale', 'kappa', 'eta', 'theta']; columns:['Mean', 'SD', 'ESS_mean', 'ESS_sd' 'HPD2.5', 'HPD97.5']\n",
    "    \"\"\"\n",
    "    return trace, resumo_trace\n",
    "```\n",
    "\n"
   ]
  }
 ],
 "metadata": {
  "kernelspec": {
   "display_name": "Python 3",
   "language": "python",
   "name": "python3"
  },
  "language_info": {
   "codemirror_mode": {
    "name": "ipython",
    "version": 3
   },
   "file_extension": ".py",
   "mimetype": "text/x-python",
   "name": "python",
   "nbconvert_exporter": "python",
   "pygments_lexer": "ipython3",
   "version": "3.7.4"
  }
 },
 "nbformat": 4,
 "nbformat_minor": 2
}
